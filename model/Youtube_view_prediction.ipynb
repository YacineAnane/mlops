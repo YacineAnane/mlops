{
 "cells": [
  {
   "cell_type": "code",
   "execution_count": 76,
   "id": "b6f4ecd4",
   "metadata": {},
   "outputs": [],
   "source": [
    "import pandas as pd\n",
    "import numpy as np\n",
    "from sklearn.ensemble import RandomForestRegressor\n",
    "import joblib\n",
    "from sklearn.model_selection import train_test_split\n",
    "from sklearn.metrics import mean_squared_error\n",
    "from sklearn.metrics import mean_absolute_error\n",
    "from datetime import datetime, timedelta\n",
    "import matplotlib.pyplot as plt"
   ]
  },
  {
   "cell_type": "code",
   "execution_count": 77,
   "id": "7d8566d3",
   "metadata": {},
   "outputs": [],
   "source": [
    "dataset = pd.concat([pd.read_csv(\"../data/ytunlabeled2.csv\"), pd.read_csv(\"../data/ytunlabeled3.csv\")])\n",
    "dataset = dataset[[\"viewCount\", \"avg polarity score\", \"subscribers\", \"totalVideos\", \"totalViews\", \"duration\"]]\n",
    "dataset = dataset[dataset[\"avg polarity score\"].notna()]\n",
    "label = \"viewCount\"\n",
    "\n",
    "def convert_timestamp(time):\n",
    "    parsing_str = \"PT\"\n",
    "    \n",
    "    if \"H\" in time:\n",
    "        parsing_str += \"%HH\"\n",
    "    if \"M\" in time:\n",
    "        parsing_str += \"%MM\"\n",
    "    if \"S\" in time:\n",
    "        parsing_str += \"%SS\"\n",
    "        \n",
    "    t = datetime.strptime(time, parsing_str)\n",
    "    # convert to timedelta to get the total seconds\n",
    "    td = timedelta(minutes=t.minute, seconds=t.second)\n",
    "    return td.total_seconds()\n",
    "\n",
    "dataset[\"duration\"] = dataset[\"duration\"].apply(lambda time: convert_timestamp(time))"
   ]
  },
  {
   "cell_type": "code",
   "execution_count": 78,
   "id": "c52e59f4",
   "metadata": {},
   "outputs": [
    {
     "data": {
      "text/plain": [
       "count    1.595000e+03\n",
       "mean     1.262284e+05\n",
       "std      4.799890e+05\n",
       "min      0.000000e+00\n",
       "25%      4.515000e+03\n",
       "50%      3.208700e+04\n",
       "75%      8.751800e+04\n",
       "max      8.015846e+06\n",
       "Name: viewCount, dtype: float64"
      ]
     },
     "execution_count": 78,
     "metadata": {},
     "output_type": "execute_result"
    }
   ],
   "source": [
    "dataset[label].describe()"
   ]
  },
  {
   "cell_type": "code",
   "execution_count": 79,
   "id": "41094805",
   "metadata": {},
   "outputs": [],
   "source": [
    "x_train, x_test, y_train, y_test = train_test_split(dataset.drop(columns=[label]), dataset[label], test_size=0.33, random_state=42)"
   ]
  },
  {
   "cell_type": "code",
   "execution_count": 80,
   "id": "bac9fa39",
   "metadata": {},
   "outputs": [
    {
     "name": "stdout",
     "output_type": "stream",
     "text": [
      "MSE: 96014679310.36821\n",
      "MAE: 63446.9380689437\n"
     ]
    }
   ],
   "source": [
    "model = RandomForestRegressor()\n",
    "model.fit(x_train, y_train)\n",
    "\n",
    "preds = model.predict(x_test)\n",
    "print(\"MSE:\", mean_squared_error(y_test, preds))\n",
    "print(\"MAE:\", mean_absolute_error(y_test, preds))"
   ]
  },
  {
   "cell_type": "code",
   "execution_count": 81,
   "id": "a169e048",
   "metadata": {},
   "outputs": [
    {
     "data": {
      "text/html": [
       "<div>\n",
       "<style scoped>\n",
       "    .dataframe tbody tr th:only-of-type {\n",
       "        vertical-align: middle;\n",
       "    }\n",
       "\n",
       "    .dataframe tbody tr th {\n",
       "        vertical-align: top;\n",
       "    }\n",
       "\n",
       "    .dataframe thead th {\n",
       "        text-align: right;\n",
       "    }\n",
       "</style>\n",
       "<table border=\"1\" class=\"dataframe\">\n",
       "  <thead>\n",
       "    <tr style=\"text-align: right;\">\n",
       "      <th></th>\n",
       "      <th>preds</th>\n",
       "      <th>viewCount</th>\n",
       "      <th>diff</th>\n",
       "    </tr>\n",
       "  </thead>\n",
       "  <tbody>\n",
       "    <tr>\n",
       "      <th>0</th>\n",
       "      <td>8.175472e+04</td>\n",
       "      <td>70858</td>\n",
       "      <td>10896.720000</td>\n",
       "    </tr>\n",
       "    <tr>\n",
       "      <th>1</th>\n",
       "      <td>2.605501e+04</td>\n",
       "      <td>1291</td>\n",
       "      <td>24764.010000</td>\n",
       "    </tr>\n",
       "    <tr>\n",
       "      <th>2</th>\n",
       "      <td>1.427826e+06</td>\n",
       "      <td>2065737</td>\n",
       "      <td>637910.590000</td>\n",
       "    </tr>\n",
       "    <tr>\n",
       "      <th>3</th>\n",
       "      <td>2.242567e+05</td>\n",
       "      <td>175157</td>\n",
       "      <td>49099.680000</td>\n",
       "    </tr>\n",
       "    <tr>\n",
       "      <th>4</th>\n",
       "      <td>7.861667e-01</td>\n",
       "      <td>1</td>\n",
       "      <td>0.213833</td>\n",
       "    </tr>\n",
       "    <tr>\n",
       "      <th>...</th>\n",
       "      <td>...</td>\n",
       "      <td>...</td>\n",
       "      <td>...</td>\n",
       "    </tr>\n",
       "    <tr>\n",
       "      <th>522</th>\n",
       "      <td>3.359510e+03</td>\n",
       "      <td>5415</td>\n",
       "      <td>2055.490000</td>\n",
       "    </tr>\n",
       "    <tr>\n",
       "      <th>523</th>\n",
       "      <td>2.279327e+05</td>\n",
       "      <td>266015</td>\n",
       "      <td>38082.340000</td>\n",
       "    </tr>\n",
       "    <tr>\n",
       "      <th>524</th>\n",
       "      <td>1.063016e+04</td>\n",
       "      <td>16379</td>\n",
       "      <td>5748.840000</td>\n",
       "    </tr>\n",
       "    <tr>\n",
       "      <th>525</th>\n",
       "      <td>5.678374e+04</td>\n",
       "      <td>71311</td>\n",
       "      <td>14527.260000</td>\n",
       "    </tr>\n",
       "    <tr>\n",
       "      <th>526</th>\n",
       "      <td>1.697955e+05</td>\n",
       "      <td>27127</td>\n",
       "      <td>142668.490000</td>\n",
       "    </tr>\n",
       "  </tbody>\n",
       "</table>\n",
       "<p>527 rows × 3 columns</p>\n",
       "</div>"
      ],
      "text/plain": [
       "            preds  viewCount           diff\n",
       "0    8.175472e+04      70858   10896.720000\n",
       "1    2.605501e+04       1291   24764.010000\n",
       "2    1.427826e+06    2065737  637910.590000\n",
       "3    2.242567e+05     175157   49099.680000\n",
       "4    7.861667e-01          1       0.213833\n",
       "..            ...        ...            ...\n",
       "522  3.359510e+03       5415    2055.490000\n",
       "523  2.279327e+05     266015   38082.340000\n",
       "524  1.063016e+04      16379    5748.840000\n",
       "525  5.678374e+04      71311   14527.260000\n",
       "526  1.697955e+05      27127  142668.490000\n",
       "\n",
       "[527 rows x 3 columns]"
      ]
     },
     "execution_count": 81,
     "metadata": {},
     "output_type": "execute_result"
    }
   ],
   "source": [
    "diff = np.abs(preds - y_test.values)\n",
    "res = pd.concat([pd.Series(preds), y_test.reset_index(drop=True), pd.Series(diff)], axis=1)\n",
    "res.columns = [\"preds\", \"viewCount\", \"diff\"]\n",
    "res"
   ]
  },
  {
   "cell_type": "code",
   "execution_count": null,
   "id": "4b09fd8a",
   "metadata": {},
   "outputs": [],
   "source": [
    "# save the model to disk\n",
    "filename = 'random_forest.joblib'\n",
    "joblib.dump(model, filename)"
   ]
  },
  {
   "cell_type": "code",
   "execution_count": 84,
   "id": "03de976b",
   "metadata": {},
   "outputs": [
    {
     "name": "stdout",
     "output_type": "stream",
     "text": [
      "     avg polarity score  subscribers  totalVideos  totalViews  duration\n",
      "319            0.392919        57000          249     5006198    1124.0\n",
      "355            0.271177        47500          253     5917076     337.0\n",
      "495            0.303378       135000         1289    21427061     200.0\n",
      "209            0.342399      1710000         2320   347648425     296.0\n",
      "140            0.341549      1710000         2320   347648425     326.0\n",
      "..                  ...          ...          ...         ...       ...\n",
      "333            0.268607        47500          253     5917076     330.0\n",
      "497            0.285690       135000         1289    21427061     150.0\n",
      "63             0.279763        25600          392     2343442     313.0\n",
      "662            0.554277       679000          322    55991342    1516.0\n",
      "329            0.398720        57000          249     5006198    1220.0\n",
      "\n",
      "[1068 rows x 5 columns]\n"
     ]
    }
   ],
   "source": [
    "print(x_train)"
   ]
  }
 ],
 "metadata": {
  "kernelspec": {
   "display_name": "ML_3.10.4",
   "language": "python",
   "name": "ml_3.10.4"
  },
  "language_info": {
   "codemirror_mode": {
    "name": "ipython",
    "version": 3
   },
   "file_extension": ".py",
   "mimetype": "text/x-python",
   "name": "python",
   "nbconvert_exporter": "python",
   "pygments_lexer": "ipython3",
   "version": "3.10.4"
  }
 },
 "nbformat": 4,
 "nbformat_minor": 5
}
